{
 "cells": [
  {
   "cell_type": "code",
   "execution_count": 1,
   "id": "cf55198e",
   "metadata": {},
   "outputs": [
    {
     "name": "stdout",
     "output_type": "stream",
     "text": [
      "patch x\n",
      " [[1 2 3]\n",
      " [4 5 6]\n",
      " [7 8 9]] \n",
      "\n",
      "omega Ω scale parameter\n",
      " [[0.11111111 0.44444444 1.        ]\n",
      " [1.77777778 2.77777778 4.        ]\n",
      " [5.44444444 7.11111111 9.        ]] \n",
      "\n",
      "shape parameter m\n",
      " [[0.125 0.125 0.125]\n",
      " [0.125 0.125 0.125]\n",
      " [0.125 0.125 0.125]] \n",
      "\n"
     ]
    }
   ],
   "source": [
    "import numpy as np\n",
    "scale=1\n",
    "x=np.array([[1,2,3],[4,5,6],[7,8,9]])           # patch \n",
    "w=np.ones((scale + 2,3))/((scale + 2)*3)\n",
    "\n",
    "xx=np.multiply(x,x)\n",
    "omega=np.multiply(xx,w)               # scale parameter calculated\n",
    "\n",
    "# Shape parameter\n",
    "numerator = np.multiply(omega,omega)\n",
    "denominator = np.multiply(np.multiply(xx,xx),w) - numerator\n",
    "\n",
    "m= np.divide(numerator,denominator)   # shape parameter calculated\n",
    "\n",
    "print(\"patch x\\n\" ,x,\"\\n\" )\n",
    "\n",
    "print(\"omega Ω scale parameter\\n\" ,omega,\"\\n\" )\n",
    "\n",
    "print(\"shape parameter m\\n\",m,\"\\n\" )"
   ]
  },
  {
   "cell_type": "code",
   "execution_count": null,
   "id": "a3b3b7af",
   "metadata": {},
   "outputs": [],
   "source": []
  }
 ],
 "metadata": {
  "kernelspec": {
   "display_name": "Python 3 (ipykernel)",
   "language": "python",
   "name": "python3"
  },
  "language_info": {
   "codemirror_mode": {
    "name": "ipython",
    "version": 3
   },
   "file_extension": ".py",
   "mimetype": "text/x-python",
   "name": "python",
   "nbconvert_exporter": "python",
   "pygments_lexer": "ipython3",
   "version": "3.9.7"
  }
 },
 "nbformat": 4,
 "nbformat_minor": 5
}
