import numpy as np
scale=1
x=np.array([[1,2,3],[4,5,6],[7,8,9]])           # patch 
w=np.ones((scale + 2,3))/((scale + 2)*3)

xx=np.multiply(x,x)
omega=np.multiply(xx,w)               # scale parameter calculated

# Shape parameter
numerator = np.multiply(omega,omega)
denominator = np.multiply(np.multiply(xx,xx),w) - numerator

m= np.divide(numerator,denominator)   # shape parameter calculated

print("patch x\n" ,x,"\n" )

print("omega Ω scale parameter\n" ,omega,"\n" )

print("shape parameter m\n",m,"\n" )
